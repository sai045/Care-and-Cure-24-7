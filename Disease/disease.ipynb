{
 "cells": [
  {
   "cell_type": "code",
   "execution_count": null,
   "metadata": {},
   "outputs": [],
   "source": [
    "# importing the modules \n",
    "import numpy as np\n",
    "import pandas as pd\n",
    "from sklearn.model_selection import train_test_split\n",
    "from sklearn.preprocessing import LabelEncoder\n",
    "from sklearn.metrics import accuracy_score"
   ]
  },
  {
   "cell_type": "code",
   "execution_count": null,
   "metadata": {},
   "outputs": [],
   "source": [
    "# importing the data \n",
    "data = pd.read_csv(\"Training.csv\")"
   ]
  },
  {
   "cell_type": "code",
   "execution_count": null,
   "metadata": {},
   "outputs": [],
   "source": [
    "data.head()"
   ]
  },
  {
   "cell_type": "code",
   "execution_count": null,
   "metadata": {},
   "outputs": [],
   "source": [
    "data.iloc[0]"
   ]
  },
  {
   "cell_type": "code",
   "execution_count": null,
   "metadata": {},
   "outputs": [],
   "source": [
    "data.shape"
   ]
  },
  {
   "cell_type": "code",
   "execution_count": null,
   "metadata": {},
   "outputs": [],
   "source": [
    "# checking for null values \n",
    "data.isnull().sum()"
   ]
  },
  {
   "cell_type": "code",
   "execution_count": null,
   "metadata": {},
   "outputs": [],
   "source": [
    "data.shape"
   ]
  },
  {
   "cell_type": "code",
   "execution_count": null,
   "metadata": {},
   "outputs": [],
   "source": [
    "data = data.drop(labels='Unnamed: 133',axis=1)\n",
    "# Removing the null column "
   ]
  },
  {
   "cell_type": "code",
   "execution_count": null,
   "metadata": {},
   "outputs": [],
   "source": [
    "data.shape"
   ]
  },
  {
   "cell_type": "code",
   "execution_count": null,
   "metadata": {},
   "outputs": [],
   "source": [
    "data.isnull().sum()"
   ]
  },
  {
   "cell_type": "markdown",
   "metadata": {},
   "source": [
    "Data Standardization is not required as the data is alerady in the cleaned state"
   ]
  },
  {
   "cell_type": "markdown",
   "metadata": {},
   "source": [
    "Splitting the data"
   ]
  },
  {
   "cell_type": "code",
   "execution_count": null,
   "metadata": {},
   "outputs": [],
   "source": [
    "y = data['prognosis']\n",
    "y[300]"
   ]
  },
  {
   "cell_type": "code",
   "execution_count": null,
   "metadata": {},
   "outputs": [],
   "source": [
    "y_dict = {\n",
    "    0:\"Paroymsal  Positional Vertigo\",\n",
    "    1:\"AIDS\",\n",
    "    2:\"Acne\",\n",
    "    3:\"Alcoholic hepatitis\",\n",
    "    4:\"Allergy\",\n",
    "    5:\"Arthritis\",\n",
    "    6:\"Bronchial Asthma\",\n",
    "    7:\"Cervical spondylosis\",\n",
    "    8:\"Chicken pox\",\n",
    "    9:\"Chronic cholestasis\",\n",
    "    10:\"Common Cold\",\n",
    "    11:\"Dengue\",\n",
    "    12:\"Diabetes\",\n",
    "    13:\"Dimorphic hemmorhoids\",\n",
    "    14:\"Drug Reaction\",\n",
    "    15:\"Fungal Infection\",\n",
    "    16:\"GRED\",\n",
    "    17:\"Gastroenteritis\",\n",
    "    18:\"Heart attack\",\n",
    "    19:\"Hepatitis B\",\n",
    "    20:\"Hepatitis C\",\n",
    "    21:\"Hepatitis D\",\n",
    "    22:\"Hepatitis E\",\n",
    "    23:\"Hypertension\",\n",
    "    24:\"Hyperthyroidism\",\n",
    "    25:\"Hypoglycemia\",\n",
    "    26:\"Hypothyroidism\",\n",
    "    27:\"Impetigo\",\n",
    "    28:\"Jaundice\",\n",
    "    29:\"Malaria\",\n",
    "    30:\"Migraine\",\n",
    "    31:\"Osteoarthristis\",\n",
    "    32:\"Paralysis\",\n",
    "    33:\"Peptic ulcer disease\",\n",
    "    34:\"Pneumonia\",\n",
    "    35:\"Psoriasis\",\n",
    "    36:\"Tuberculosis\",\n",
    "    37:\"Typhoid\",\n",
    "    38:\"Urinary tract infection\",\n",
    "    39:\"Varicose veins\",\n",
    "    40:\"hepatitis A\",\n",
    "}\n",
    "data['prognosis'].nunique()"
   ]
  },
  {
   "cell_type": "code",
   "execution_count": null,
   "metadata": {},
   "outputs": [],
   "source": [
    "labelencoder = LabelEncoder()"
   ]
  },
  {
   "cell_type": "code",
   "execution_count": null,
   "metadata": {},
   "outputs": [],
   "source": [
    "y_label = labelencoder.fit_transform(y)\n",
    "y_label[300]"
   ]
  },
  {
   "cell_type": "code",
   "execution_count": null,
   "metadata": {},
   "outputs": [],
   "source": [
    "y = y_label"
   ]
  },
  {
   "cell_type": "code",
   "execution_count": null,
   "metadata": {},
   "outputs": [],
   "source": [
    "x = data.drop(labels='prognosis',axis=1)"
   ]
  },
  {
   "cell_type": "code",
   "execution_count": null,
   "metadata": {},
   "outputs": [],
   "source": [
    "x_train, x_test, y_train, y_test = train_test_split(x,y,test_size=0.2,random_state=3)"
   ]
  },
  {
   "cell_type": "code",
   "execution_count": null,
   "metadata": {},
   "outputs": [],
   "source": [
    "x.shape,x_train.shape,x_test.shape"
   ]
  },
  {
   "cell_type": "markdown",
   "metadata": {},
   "source": [
    "Training the data"
   ]
  },
  {
   "cell_type": "code",
   "execution_count": null,
   "metadata": {},
   "outputs": [],
   "source": [
    "from sklearn.neighbors import KNeighborsClassifier"
   ]
  },
  {
   "cell_type": "code",
   "execution_count": null,
   "metadata": {},
   "outputs": [],
   "source": [
    "data.isnull().sum()\n",
    "# checking if the data has any null values "
   ]
  },
  {
   "cell_type": "code",
   "execution_count": null,
   "metadata": {},
   "outputs": [],
   "source": [
    "classifier = KNeighborsClassifier(p=1)"
   ]
  },
  {
   "cell_type": "code",
   "execution_count": null,
   "metadata": {},
   "outputs": [],
   "source": [
    "classifier.fit(x_train, y_train)"
   ]
  },
  {
   "cell_type": "code",
   "execution_count": null,
   "metadata": {},
   "outputs": [],
   "source": [
    "y_pred = classifier.predict(x_test)"
   ]
  },
  {
   "cell_type": "code",
   "execution_count": null,
   "metadata": {},
   "outputs": [],
   "source": [
    "accuracy = accuracy_score(y_test, y_pred)"
   ]
  },
  {
   "cell_type": "code",
   "execution_count": null,
   "metadata": {},
   "outputs": [],
   "source": [
    "print(accuracy*100)\n",
    "# The model is overfitted since the accuracy is 100 so we cant use KNN"
   ]
  },
  {
   "cell_type": "code",
   "execution_count": null,
   "metadata": {},
   "outputs": [],
   "source": [
    "from sklearn import svm"
   ]
  },
  {
   "cell_type": "code",
   "execution_count": null,
   "metadata": {},
   "outputs": [],
   "source": [
    "svm_classifier = svm.SVC(kernel='linear')\n",
    "svm_classifier.fit(x_train,y_train)"
   ]
  },
  {
   "cell_type": "code",
   "execution_count": null,
   "metadata": {},
   "outputs": [],
   "source": [
    "y_pred = svm_classifier.predict(x_test)\n",
    "accuracy = accuracy_score(y_pred,y_test)"
   ]
  },
  {
   "cell_type": "code",
   "execution_count": null,
   "metadata": {},
   "outputs": [],
   "source": [
    "print(accuracy)"
   ]
  },
  {
   "cell_type": "code",
   "execution_count": null,
   "metadata": {},
   "outputs": [],
   "source": [
    "from xgboost import XGBClassifier"
   ]
  },
  {
   "cell_type": "code",
   "execution_count": null,
   "metadata": {},
   "outputs": [],
   "source": [
    "xgb_model = XGBClassifier()\n",
    "xgb_model.fit(x_train, y_train)"
   ]
  },
  {
   "cell_type": "code",
   "execution_count": null,
   "metadata": {},
   "outputs": [],
   "source": [
    "y_pred = xgb_model.predict(x_test)"
   ]
  },
  {
   "cell_type": "code",
   "execution_count": null,
   "metadata": {},
   "outputs": [],
   "source": [
    "accuracy = accuracy_score(y_pred,y_test)"
   ]
  },
  {
   "cell_type": "code",
   "execution_count": null,
   "metadata": {},
   "outputs": [],
   "source": [
    "print(accuracy)"
   ]
  },
  {
   "cell_type": "markdown",
   "metadata": {},
   "source": [
    "Every model is giving 100% accuracy so the model is not overfitted so we can use whatever model we want"
   ]
  },
  {
   "cell_type": "code",
   "execution_count": null,
   "metadata": {},
   "outputs": [],
   "source": [
    "import pickle"
   ]
  },
  {
   "cell_type": "code",
   "execution_count": null,
   "metadata": {},
   "outputs": [],
   "source": [
    "filename = 'disease.sav'\n",
    "pickle.dump(classifier,open(filename,'wb'))"
   ]
  },
  {
   "cell_type": "code",
   "execution_count": null,
   "metadata": {},
   "outputs": [],
   "source": [
    "loaded_model = pickle.load(open('disease.sav', 'rb'))"
   ]
  },
  {
   "cell_type": "code",
   "execution_count": null,
   "metadata": {},
   "outputs": [],
   "source": [
    "input_data = (1,1,1,0,0,0,0,0,0,0,0,0,0,0,0,0,0,0,0,0,0,0,0,0,0,0,0,0,0,0,0,0,0,0,0,0,0,0,0,0,0,0,0,0,0,0,0,0,0,0,0,0,0,0,0,0,0,0,0,0,0,0,0,0,0,0,0,0,0,0,0,0,0,0,0,0,0,0,0,0,0,0,0,0,0,0,0,0,0,0,0,0,0,0,0,0,0,0,0,0,0,0,1,0,0,0,0,0,0,0,0,0,0,0,0,0,0,0,0,0,0,0,0,0,0,0,0,0,0,0,0,0)\n",
    "\n",
    "# changing the input_data to numpy array\n",
    "input_data_as_numpy_array = np.asarray(input_data)\n",
    "\n",
    "# reshape the array as we are predicting for one instance\n",
    "input_data_reshaped = input_data_as_numpy_array.reshape(1,-1)\n",
    "\n",
    "prediction = loaded_model.predict(input_data_reshaped)\n",
    "print(y_dict[prediction[0]])"
   ]
  },
  {
   "cell_type": "code",
   "execution_count": null,
   "metadata": {},
   "outputs": [],
   "source": [
    "data.iloc[0]"
   ]
  },
  {
   "cell_type": "code",
   "execution_count": 43,
   "metadata": {},
   "outputs": [
    {
     "name": "stdout",
     "output_type": "stream",
     "text": [
      "itching\n",
      "skin_rash\n",
      "nodal_skin_eruptions\n",
      "continuous_sneezing\n",
      "shivering\n",
      "chills\n",
      "joint_pain\n",
      "stomach_pain\n",
      "acidity\n",
      "ulcers_on_tongue\n",
      "muscle_wasting\n",
      "vomiting\n",
      "burning_micturition\n",
      "spotting_ urination\n",
      "fatigue\n",
      "weight_gain\n",
      "anxiety\n",
      "cold_hands_and_feets\n",
      "mood_swings\n",
      "weight_loss\n",
      "restlessness\n",
      "lethargy\n",
      "patches_in_throat\n",
      "irregular_sugar_level\n",
      "cough\n",
      "high_fever\n",
      "sunken_eyes\n",
      "breathlessness\n",
      "sweating\n",
      "dehydration\n",
      "indigestion\n",
      "headache\n",
      "yellowish_skin\n",
      "dark_urine\n",
      "nausea\n",
      "loss_of_appetite\n",
      "pain_behind_the_eyes\n",
      "back_pain\n",
      "constipation\n",
      "abdominal_pain\n",
      "diarrhoea\n",
      "mild_fever\n",
      "yellow_urine\n",
      "yellowing_of_eyes\n",
      "acute_liver_failure\n",
      "fluid_overload\n",
      "swelling_of_stomach\n",
      "swelled_lymph_nodes\n",
      "malaise\n",
      "blurred_and_distorted_vision\n",
      "phlegm\n",
      "throat_irritation\n",
      "redness_of_eyes\n",
      "sinus_pressure\n",
      "runny_nose\n",
      "congestion\n",
      "chest_pain\n",
      "weakness_in_limbs\n",
      "fast_heart_rate\n",
      "pain_during_bowel_movements\n",
      "pain_in_anal_region\n",
      "bloody_stool\n",
      "irritation_in_anus\n",
      "neck_pain\n",
      "dizziness\n",
      "cramps\n",
      "bruising\n",
      "obesity\n",
      "swollen_legs\n",
      "swollen_blood_vessels\n",
      "puffy_face_and_eyes\n",
      "enlarged_thyroid\n",
      "brittle_nails\n",
      "swollen_extremeties\n",
      "excessive_hunger\n",
      "extra_marital_contacts\n",
      "drying_and_tingling_lips\n",
      "slurred_speech\n",
      "knee_pain\n",
      "hip_joint_pain\n",
      "muscle_weakness\n",
      "stiff_neck\n",
      "swelling_joints\n",
      "movement_stiffness\n",
      "spinning_movements\n",
      "loss_of_balance\n",
      "unsteadiness\n",
      "weakness_of_one_body_side\n",
      "loss_of_smell\n",
      "bladder_discomfort\n",
      "foul_smell_of urine\n",
      "continuous_feel_of_urine\n",
      "passage_of_gases\n",
      "internal_itching\n",
      "toxic_look_(typhos)\n",
      "depression\n",
      "irritability\n",
      "muscle_pain\n",
      "altered_sensorium\n",
      "red_spots_over_body\n",
      "belly_pain\n",
      "abnormal_menstruation\n",
      "dischromic _patches\n",
      "watering_from_eyes\n",
      "increased_appetite\n",
      "polyuria\n",
      "family_history\n",
      "mucoid_sputum\n",
      "rusty_sputum\n",
      "lack_of_concentration\n",
      "visual_disturbances\n",
      "receiving_blood_transfusion\n",
      "receiving_unsterile_injections\n",
      "coma\n",
      "stomach_bleeding\n",
      "distention_of_abdomen\n",
      "history_of_alcohol_consumption\n",
      "fluid_overload.1\n",
      "blood_in_sputum\n",
      "prominent_veins_on_calf\n",
      "palpitations\n",
      "painful_walking\n",
      "pus_filled_pimples\n",
      "blackheads\n",
      "scurring\n",
      "skin_peeling\n",
      "silver_like_dusting\n",
      "small_dents_in_nails\n",
      "inflammatory_nails\n",
      "blister\n",
      "red_sore_around_nose\n",
      "yellow_crust_ooze\n"
     ]
    }
   ],
   "source": [
    "for column in x.columns:\n",
    "  print(column)"
   ]
  }
 ],
 "metadata": {
  "interpreter": {
   "hash": "bdfcabd26b894b46bf63e9c1ffd386ed2d23c0ca8e616d5569ba541df947ae54"
  },
  "kernelspec": {
   "display_name": "Python 3.10.4 ('venv': venv)",
   "language": "python",
   "name": "python3"
  },
  "language_info": {
   "codemirror_mode": {
    "name": "ipython",
    "version": 3
   },
   "file_extension": ".py",
   "mimetype": "text/x-python",
   "name": "python",
   "nbconvert_exporter": "python",
   "pygments_lexer": "ipython3",
   "version": "3.10.4"
  },
  "orig_nbformat": 4
 },
 "nbformat": 4,
 "nbformat_minor": 2
}
