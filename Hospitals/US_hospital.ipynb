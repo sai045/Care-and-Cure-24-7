{
 "cells": [
  {
   "cell_type": "code",
   "execution_count": null,
   "metadata": {},
   "outputs": [],
   "source": [
    "import pandas as pd\n",
    "import numpy as np"
   ]
  },
  {
   "cell_type": "code",
   "execution_count": null,
   "metadata": {},
   "outputs": [],
   "source": [
    "us_hospitals = pd.read_csv(\"US_Hospitals.csv\")"
   ]
  },
  {
   "cell_type": "code",
   "execution_count": null,
   "metadata": {},
   "outputs": [],
   "source": [
    "us_hospitals.head()"
   ]
  },
  {
   "cell_type": "code",
   "execution_count": 17,
   "metadata": {},
   "outputs": [
    {
     "data": {
      "text/plain": [
       "X                                                   -118.815736\n",
       "Y                                                     34.154939\n",
       "OBJECTID                                                      2\n",
       "ID                                                     53391362\n",
       "NAME          LOS ROBLES HOSPITAL & MEDICAL CENTER - EAST CA...\n",
       "ADDRESS                                          150 VIA MERIDA\n",
       "CITY                                            WESTLAKE VILAGE\n",
       "STATE                                                        CA\n",
       "ZIP                                                       91362\n",
       "ZIP4                                              NOT AVAILABLE\n",
       "TELEPHONE                                         NOT AVAILABLE\n",
       "TYPE                                         GENERAL ACUTE CARE\n",
       "STATUS                                                     OPEN\n",
       "POPULATION                                                   40\n",
       "COUNTY                                                  VENTURA\n",
       "COUNTYFIPS                                                06111\n",
       "COUNTRY                                                     USA\n",
       "LATITUDE                                              34.154939\n",
       "LONGITUDE                                           -118.815736\n",
       "NAICS_CODE                                               622110\n",
       "NAICS_DESC               GENERAL MEDICAL AND SURGICAL HOSPITALS\n",
       "SOURCE        http://www.oshpd.ca.gov/hid/facility-listing.html\n",
       "SOURCEDATE                               2020/08/01 00:00:00+00\n",
       "VAL_METHOD                                        IMAGERY/OTHER\n",
       "VAL_DATE                                 2014/02/10 00:00:00+00\n",
       "WEBSITE                        http://www.losrobleshospital.com\n",
       "STATE_ID                                          NOT AVAILABLE\n",
       "ALT_NAME                                          NOT AVAILABLE\n",
       "ST_FIPS                                                       6\n",
       "OWNER                                               PROPRIETARY\n",
       "TTL_STAFF                                                  -999\n",
       "BEDS                                                         40\n",
       "TRAUMA                                            NOT AVAILABLE\n",
       "HELIPAD                                                       N\n",
       "Name: 0, dtype: object"
      ]
     },
     "execution_count": 17,
     "metadata": {},
     "output_type": "execute_result"
    }
   ],
   "source": [
    "us_hospitals.iloc[0]"
   ]
  },
  {
   "cell_type": "code",
   "execution_count": null,
   "metadata": {},
   "outputs": [],
   "source": [
    "# X = float(input(\"Enter the Latitude of your location: \"))\n",
    "# Y = float(input(\"Enter the Longitude of your location: \"))\n",
    "point = (-118.815736,34.154939)"
   ]
  },
  {
   "cell_type": "code",
   "execution_count": null,
   "metadata": {},
   "outputs": [],
   "source": [
    "for column in us_hospitals.columns:\n",
    "  print(column)"
   ]
  },
  {
   "cell_type": "code",
   "execution_count": null,
   "metadata": {},
   "outputs": [],
   "source": [
    "data = us_hospitals.drop(labels=['OBJECTID','ID','NAME','ADDRESS','CITY','STATE','ZIP','ZIP4','TELEPHONE','TYPE','STATUS','POPULATION','COUNTY','COUNTYFIPS','COUNTRY','LATITUDE','LONGITUDE','NAICS_CODE','NAICS_DESC','SOURCE','SOURCEDATE','VAL_METHOD','VAL_DATE','WEBSITE','STATE_ID','ALT_NAME','ST_FIPS','OWNER','TTL_STAFF','BEDS','TRAUMA','HELIPAD'],axis=1)\n",
    "data.head()"
   ]
  },
  {
   "cell_type": "code",
   "execution_count": null,
   "metadata": {},
   "outputs": [],
   "source": [
    "def distance(a,b):\n",
    "    a = np.array(a)\n",
    "    b = np.array(b)\n",
    "\n",
    "    dis = np.sum(np.square(a-b))\n",
    "    return dis"
   ]
  },
  {
   "cell_type": "code",
   "execution_count": null,
   "metadata": {},
   "outputs": [],
   "source": [
    "print(data.iloc[0])"
   ]
  },
  {
   "cell_type": "code",
   "execution_count": null,
   "metadata": {},
   "outputs": [],
   "source": [
    "all_dist = {}\n",
    "for i in range(len(data)):\n",
    "    d = (data.iloc[i].X,data.iloc[i].Y)\n",
    "    all_dist[i] = distance(d,point)"
   ]
  },
  {
   "cell_type": "code",
   "execution_count": null,
   "metadata": {},
   "outputs": [],
   "source": [
    "topNeighbours = dict(sorted(all_dist.items(), key=lambda item: item[1]))\n",
    "neighbours = []\n",
    "topIndices = list(topNeighbours.keys())\n",
    "for i in topIndices[:7]:\n",
    "    neighbours.append(us_hospitals.iloc[i])\n",
    "neighbours"
   ]
  },
  {
   "cell_type": "code",
   "execution_count": null,
   "metadata": {},
   "outputs": [],
   "source": [
    "st = \"\"\n",
    "for i in neighbours:\n",
    "    st += i.NAME + \",\"\n",
    "print(st)"
   ]
  }
 ],
 "metadata": {
  "interpreter": {
   "hash": "369f2c481f4da34e4445cda3fffd2e751bd1c4d706f27375911949ba6bb62e1c"
  },
  "kernelspec": {
   "display_name": "Python 3.10.4 64-bit",
   "language": "python",
   "name": "python3"
  },
  "language_info": {
   "codemirror_mode": {
    "name": "ipython",
    "version": 3
   },
   "file_extension": ".py",
   "mimetype": "text/x-python",
   "name": "python",
   "nbconvert_exporter": "python",
   "pygments_lexer": "ipython3",
   "version": "3.10.4"
  },
  "orig_nbformat": 4
 },
 "nbformat": 4,
 "nbformat_minor": 2
}
